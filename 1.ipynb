{
 "cells": [
  {
   "cell_type": "code",
   "execution_count": 1,
   "id": "5ab7c400-c8c5-4f32-b899-30645fac77a4",
   "metadata": {
    "tags": []
   },
   "outputs": [
    {
     "name": "stdout",
     "output_type": "stream",
     "text": [
      "Create Connection\n",
      "<mysql.connector.connection_cext.CMySQLConnection object at 0x00000219F73FB2D0>\n"
     ]
    }
   ],
   "source": [
    "print(\"Create Connection\")\n",
    "import mysql.connector\n",
    "mydb=mysql.connector.connect(\n",
    "    host=\"localhost\",\n",
    "    user=\"root\",\n",
    "    passwd=\"root\")\n",
    "print(mydb)\n"
   ]
  },
  {
   "cell_type": "code",
   "execution_count": 34,
   "id": "8e906119-3bc3-45ba-bb34-0331fe32da1a",
   "metadata": {
    "tags": []
   },
   "outputs": [
    {
     "name": "stdout",
     "output_type": "stream",
     "text": [
      "Email sent\n"
     ]
    }
   ],
   "source": [
    "from email.message import EmailMessage\n",
    "import ssl\n",
    "import smtplib\n",
    "email_sender=\"rijul6909@gmail.com\"\n",
    "email_password=\"bnetxellvyexelgg\"\n",
    "email_receiver=\"akshitbansal010@gmail.com\"\n",
    "subject=\"Email sent using Python\"\n",
    "body=\"My first python sent email\"\n",
    "em=EmailMessage()\n",
    "em[\"From\"]=email_sender\n",
    "em[\"To\"]=email_receiver\n",
    "em[\"Subject\"]=subject\n",
    "em.set_content(body)\n",
    "context=ssl.create_default_context()\n",
    "with smtplib.SMTP_SSL('smtp.gmail.com',465,context=context) as smtp:\n",
    "    smtp.login(email_sender, email_password)\n",
    "    smtp.sendmail(email_sender, email_receiver, em.as_string())\n",
    "print(\"Email sent\")\n",
    "    "
   ]
  },
  {
   "cell_type": "code",
   "execution_count": 38,
   "id": "fb1a67e4-3688-45cc-aebe-6543822a58ae",
   "metadata": {
    "tags": []
   },
   "outputs": [
    {
     "name": "stdout",
     "output_type": "stream",
     "text": [
      "<mysql.connector.connection_cext.CMySQLConnection object at 0x00000219F88FE050>\n"
     ]
    }
   ],
   "source": [
    "import mysql.connector\n",
    "mydb=mysql.connector.connect(\n",
    "    host=\"localhost\",\n",
    "    user=\"root\",\n",
    "    passwd=\"root\",\n",
    "    database=\"test\")\n",
    "mycursor=mydb.cursor()\n",
    "print(mydb)"
   ]
  },
  {
   "cell_type": "code",
   "execution_count": 39,
   "id": "8af3abc4-a3f6-4ed3-848b-efcaca3c8da6",
   "metadata": {
    "tags": []
   },
   "outputs": [],
   "source": [
    "mycursor.execute(\"select * from testtable1\")"
   ]
  },
  {
   "cell_type": "code",
   "execution_count": 40,
   "id": "7bb84bdc-b3ff-4409-af86-999ec223272d",
   "metadata": {
    "tags": []
   },
   "outputs": [
    {
     "data": {
      "text/plain": [
       "[('Rijul Bansal',\n",
       "  'rijul11103@gmail.com',\n",
       "  '9891696246',\n",
       "  datetime.date(2023, 9, 3),\n",
       "  'Orthopedic',\n",
       "  'Hello'),\n",
       " ('Akshit Bansal',\n",
       "  'akshitbansal010@gmail.com',\n",
       "  '9891696246',\n",
       "  datetime.date(2023, 9, 6),\n",
       "  'Pediatric',\n",
       "  'Heyyy')]"
      ]
     },
     "execution_count": 40,
     "metadata": {},
     "output_type": "execute_result"
    }
   ],
   "source": [
    "mycursor.fetchall()"
   ]
  },
  {
   "cell_type": "code",
   "execution_count": 46,
   "id": "bca8b6db-ab86-471a-ab30-7b3016b62904",
   "metadata": {
    "tags": []
   },
   "outputs": [],
   "source": [
    "mycursor.execute(\"select email from testtable1\")"
   ]
  },
  {
   "cell_type": "code",
   "execution_count": 47,
   "id": "b33d09c3-c685-4e4a-8ab6-4eaa2e32d2e6",
   "metadata": {
    "tags": []
   },
   "outputs": [],
   "source": [
    "res=mycursor.fetchall()"
   ]
  },
  {
   "cell_type": "code",
   "execution_count": 50,
   "id": "5f713ad7-a9d3-44e6-abc9-c9bea6b8933a",
   "metadata": {
    "tags": []
   },
   "outputs": [
    {
     "name": "stdout",
     "output_type": "stream",
     "text": [
      "Email sent\n"
     ]
    }
   ],
   "source": [
    "from email.message import EmailMessage\n",
    "import ssl\n",
    "import smtplib\n",
    "email_sender=\"rijul6909@gmail.com\"\n",
    "email_password=\"bnetxellvyexelgg\"\n",
    "#email_receiver=\"akshitbansal010@gmail.com\"\n",
    "subject=\"Email sent using Python\"\n",
    "body=\"My first python sent email\"\n",
    "em=EmailMessage()\n",
    "em[\"From\"]=email_sender\n",
    "em[\"To\"]=email_receiver\n",
    "em[\"Subject\"]=subject\n",
    "em.set_content(body)\n",
    "context=ssl.create_default_context()\n",
    "for email_receiver in res:\n",
    "    with smtplib.SMTP_SSL('smtp.gmail.com',465,context=context) as smtp:\n",
    "        smtp.login(email_sender, email_password)\n",
    "        smtp.sendmail(email_sender, email_receiver[0], em.as_string())\n",
    "print(\"Email sent\")\n",
    "    "
   ]
  },
  {
   "cell_type": "code",
   "execution_count": 49,
   "id": "435dd4fd-3770-4a5b-bfe7-d3837497b78f",
   "metadata": {
    "tags": []
   },
   "outputs": [
    {
     "name": "stdout",
     "output_type": "stream",
     "text": [
      "rijul11103@gmail.com\n",
      "akshitbansal010@gmail.com\n"
     ]
    }
   ],
   "source": [
    "for email_receiver in res:\n",
    "    print(email_receiver[0])"
   ]
  }
 ],
 "metadata": {
  "kernelspec": {
   "display_name": "Python 3 (ipykernel)",
   "language": "python",
   "name": "python3"
  },
  "language_info": {
   "codemirror_mode": {
    "name": "ipython",
    "version": 3
   },
   "file_extension": ".py",
   "mimetype": "text/x-python",
   "name": "python",
   "nbconvert_exporter": "python",
   "pygments_lexer": "ipython3",
   "version": "3.11.4"
  }
 },
 "nbformat": 4,
 "nbformat_minor": 5
}
